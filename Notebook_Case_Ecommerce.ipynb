{
 "cells": [
  {
   "cell_type": "code",
   "execution_count": 0,
   "metadata": {
    "application/vnd.databricks.v1+cell": {
     "cellMetadata": {
      "byteLimit": 2048000,
      "rowLimit": 10000
     },
     "inputWidgets": {},
     "nuid": "cc3866db-8ce2-4097-9d14-a53b3a157a65",
     "showTitle": false,
     "title": ""
    }
   },
   "outputs": [],
   "source": [
    "\n",
    "# Configurações de conexão\n",
    "jdbcHostname = \"psql-mock-database-cloud.postgres.database.azure.com\"\n",
    "jdbcPort = 5432\n",
    "jdbcDatabase = \"ecom1692155331663giqokzaqmuqlogbu\"\n",
    "jdbcUrl = f\"jdbc:postgresql://{jdbcHostname}:{jdbcPort}/{jdbcDatabase}\"\n",
    "\n",
    "# Propriedades de conexão\n",
    "connectionProperties = {\n",
    "  \"user\" : \"eolowynayhvayxbhluzaqxfp@psql-mock-database-cloud\",\n",
    "  \"password\" : \"hdzvzutlssuozdonhflhwyjm\",\n",
    "  \"driver\" : \"org.postgresql.Driver\"\n",
    "}"
   ]
  },
  {
   "cell_type": "code",
   "execution_count": 0,
   "metadata": {
    "application/vnd.databricks.v1+cell": {
     "cellMetadata": {
      "byteLimit": 2048000,
      "rowLimit": 10000
     },
     "inputWidgets": {},
     "nuid": "dac55c30-a0e1-4348-9966-fa4099ad292a",
     "showTitle": false,
     "title": ""
    }
   },
   "outputs": [
    {
     "output_type": "stream",
     "name": "stdout",
     "output_type": "stream",
     "text": [
      "+------------------+\n|table_name        |\n+------------------+\n|customers         |\n|employees         |\n|offices           |\n|orderdetails      |\n|orders            |\n|payments          |\n|product_lines     |\n|products          |\n|pg_stat_statements|\n|pg_buffercache    |\n+------------------+\n\n"
     ]
    }
   ],
   "source": [
    "# Usar uma consulta SQL para listar as tabelas no banco de dados\n",
    "query = \"(SELECT table_name FROM information_schema.tables WHERE table_schema = 'public') AS tabela_listagem\"\n",
    "\n",
    "# Ler o resultado da query no Spark DataFrame\n",
    "df_tables = spark.read.jdbc(url=jdbcUrl, table=query, properties=connectionProperties)\n",
    "\n",
    "# Mostrar as tabelas encontradas\n",
    "df_tables.show(truncate=False)\n",
    "\n"
   ]
  },
  {
   "cell_type": "code",
   "execution_count": 0,
   "metadata": {
    "application/vnd.databricks.v1+cell": {
     "cellMetadata": {
      "byteLimit": 2048000,
      "rowLimit": 10000
     },
     "inputWidgets": {},
     "nuid": "7467259d-63b8-421a-a7db-5ed14a20536b",
     "showTitle": false,
     "title": ""
    }
   },
   "outputs": [
    {
     "output_type": "stream",
     "name": "stdout",
     "output_type": "stream",
     "text": [
      "Iniciando ingestão da tabela: customers\nTabela customers foi salva como .parquet em /mnt/data/ecommerce/customers.parquet\nIniciando ingestão da tabela: employees\nTabela employees foi salva como .parquet em /mnt/data/ecommerce/employees.parquet\nIniciando ingestão da tabela: offices\nTabela offices foi salva como .parquet em /mnt/data/ecommerce/offices.parquet\nIniciando ingestão da tabela: orderdetails\nTabela orderdetails foi salva como .parquet em /mnt/data/ecommerce/orderdetails.parquet\nIniciando ingestão da tabela: orders\nTabela orders foi salva como .parquet em /mnt/data/ecommerce/orders.parquet\nIniciando ingestão da tabela: payments\nTabela payments foi salva como .parquet em /mnt/data/ecommerce/payments.parquet\nIniciando ingestão da tabela: product_lines\nTabela product_lines foi salva como .parquet em /mnt/data/ecommerce/product_lines.parquet\nIniciando ingestão da tabela: products\nTabela products foi salva como .parquet em /mnt/data/ecommerce/products.parquet\nIniciando ingestão da tabela: pg_stat_statements\nTabela pg_stat_statements foi salva como .parquet em /mnt/data/ecommerce/pg_stat_statements.parquet\nIngestão completa!\n"
     ]
    }
   ],
   "source": [
    "# Lista de tabelas específicas que você deseja copiar\n",
    "tables_to_copy = [\n",
    "    \"customers\", \n",
    "    \"employees\", \n",
    "    \"offices\", \n",
    "    \"orderdetails\", \n",
    "    \"orders\", \n",
    "    \"payments\", \n",
    "    \"product_lines\", \n",
    "    \"products\", \n",
    "    \"pg_stat_statements\"\n",
    "]\n",
    "\n",
    "# Iterar sobre cada tabela e realizar a ingestão\n",
    "for table in tables_to_copy:\n",
    "    print(f\"Iniciando ingestão da tabela: {table}\")\n",
    "    \n",
    "    # Ler cada tabela no DataFrame Spark\n",
    "    df = spark.read.jdbc(url=jdbcUrl, table=f\"public.{table}\", properties=connectionProperties)\n",
    "    \n",
    "    # Definir o caminho onde os arquivos .parquet serão salvos\n",
    "    output_path = f\"/mnt/data/ecommerce/{table}.parquet\"\n",
    "    \n",
    "    # Salvar os dados em formato parquet (1 arquivo por tabela)\n",
    "    df.write.mode(\"overwrite\").parquet(output_path)\n",
    "    \n",
    "    print(f\"Tabela {table} foi salva como .parquet em {output_path}\")\n",
    "\n",
    "print(\"Ingestão completa!\")"
   ]
  },
  {
   "cell_type": "code",
   "execution_count": 0,
   "metadata": {
    "application/vnd.databricks.v1+cell": {
     "cellMetadata": {
      "byteLimit": 2048000,
      "rowLimit": 10000
     },
     "inputWidgets": {},
     "nuid": "fe1454e6-9826-491b-badf-88574781599f",
     "showTitle": false,
     "title": ""
    }
   },
   "outputs": [
    {
     "output_type": "stream",
     "name": "stdout",
     "output_type": "stream",
     "text": [
      "Exibindo conteúdo da tabela: customers\n+---------------+-------------+-----------------+------------------+----------+--------------+-------------+------+--------+-----------+-------+-------------------------+------------+\n|customer_number|customer_name|contact_last_name|contact_first_name|     phone| address_line1|address_line2|  city|   state|postal_code|country|sales_rep_employee_number|credit_limit|\n+---------------+-------------+-----------------+------------------+----------+--------------+-------------+------+--------+-----------+-------+-------------------------+------------+\n|            103|         Jake|             King|           Carine |40.32.2555|54, rue Royale|         null|Nantes|Victoria|      44000| France|                     1370|    21000.00|\n+---------------+-------------+-----------------+------------------+----------+--------------+-------------+------+--------+-----------+-------+-------------------------+------------+\nonly showing top 1 row\n\nExibindo conteúdo da tabela: employees\n+---------------+---------+----------+---------+--------------------+-----------+----------+---------+\n|employee_number|last_name|first_name|extension|               email|office_code|reports_to|job_Title|\n+---------------+---------+----------+---------+--------------------+-----------+----------+---------+\n|           1002|   Murphy|     Diane|    x5800|dmurphy@classicmo...|          1|      null|President|\n+---------------+---------+----------+---------+--------------------+-----------+----------+---------+\nonly showing top 1 row\n\nExibindo conteúdo da tabela: offices\n+-----------+---------------+---------------+-----------------+-------------+-----+-------+-----------+---------+\n|office_code|           city|          phone|    address_line1|address_line2|state|country|postal_code|territory|\n+-----------+---------------+---------------+-----------------+-------------+-----+-------+-----------+---------+\n|          1|San Francisco11|+1 650 219 4782|100 Market Street|    Suite 300|   CA|    USA|      94080|       NA|\n+-----------+---------------+---------------+-----------------+-------------+-----+-------+-----------+---------+\nonly showing top 1 row\n\nExibindo conteúdo da tabela: orderdetails\n+------------+------------+----------------+----------+-----------------+\n|order_number|product_code|quantity_ordered|price_each|order_line_number|\n+------------+------------+----------------+----------+-----------------+\n|       10100|    S18_1749|              30|    136.00|                3|\n+------------+------------+----------------+----------+-----------------+\nonly showing top 1 row\n\nExibindo conteúdo da tabela: orders\n+------------+----------+-------------+------------+--------+--------+---------------+\n|order_number|order_date|required_date|shipped_date|  status|comments|customer_number|\n+------------+----------+-------------+------------+--------+--------+---------------+\n|       10100|2003-01-06|   2003-01-13|  2003-01-10|Resolved|    null|            363|\n+------------+----------+-------------+------------+--------+--------+---------------+\nonly showing top 1 row\n\nExibindo conteúdo da tabela: payments\n+---------------+------------+------------+-------+\n|customer_number|check_number|payment_date| amount|\n+---------------+------------+------------+-------+\n|            103|    HQ336336|  2004-10-19|6066.78|\n+---------------+------------+------------+-------+\nonly showing top 1 row\n\nExibindo conteúdo da tabela: product_lines\n+------------+--------------------+----------------+-----+\n|product_line|    text_description|html_description|image|\n+------------+--------------------+----------------+-----+\n|Classic Cars|Attention car ent...|            null| null|\n+------------+--------------------+----------------+-----+\nonly showing top 1 row\n\nExibindo conteúdo da tabela: products\n+------------+--------------------+------------+-------------+---------------+--------------------+-----------------+---------+-----+\n|product_code|        product_name|product_line|product_scale| product_vendor| product_description|quantity_in_stock|buy_price| msrp|\n+------------+--------------------+------------+-------------+---------------+--------------------+-----------------+---------+-----+\n|    S10_1678|1969 Harley David...| Motorcycles|         1:10|Min Lin Diecast|This replica feat...|             7933|    48.81|95.70|\n+------------+--------------------+------------+-------------+---------------+--------------------+-----------------+---------+-----+\nonly showing top 1 row\n\nExibindo conteúdo da tabela: pg_stat_statements\n+------+----+-------+-----+-----+----------+--------+--------+---------+-----------+----+---------------+----------------+-------------------+-------------------+--------------+---------------+------------------+------------------+--------------+-----------------+-------------+--------------+\n|userid|dbid|queryid|query|calls|total_time|min_time|max_time|mean_time|stddev_time|rows|shared_blks_hit|shared_blks_read|shared_blks_dirtied|shared_blks_written|local_blks_hit|local_blks_read|local_blks_dirtied|local_blks_written|temp_blks_read|temp_blks_written|blk_read_time|blk_write_time|\n+------+----+-------+-----+-----+----------+--------+--------+---------+-----------+----+---------------+----------------+-------------------+-------------------+--------------+---------------+------------------+------------------+--------------+-----------------+-------------+--------------+\n+------+----+-------+-----+-----+----------+--------+--------+---------+-----------+----+---------------+----------------+-------------------+-------------------+--------------+---------------+------------------+------------------+--------------+-----------------+-------------+--------------+\n\n"
     ]
    }
   ],
   "source": [
    "# Definir o caminho base onde as tabelas Parquet estão armazenadas\n",
    "base_path = \"/mnt/data/ecommerce/\"\n",
    "\n",
    "# Lista das tabelas para serem lidas\n",
    "tables = [\n",
    "    \"customers\", \n",
    "    \"employees\", \n",
    "    \"offices\", \n",
    "    \"orderdetails\", \n",
    "    \"orders\", \n",
    "    \"payments\", \n",
    "    \"product_lines\", \n",
    "    \"products\", \n",
    "    \"pg_stat_statements\"\n",
    "]\n",
    "\n",
    "# Dicionário para armazenar os DataFrames\n",
    "dataframes = {}\n",
    "\n",
    "# Iterar sobre cada tabela, ler o arquivo Parquet e armazenar no dicionário\n",
    "for table in tables:\n",
    "    df = spark.read.parquet(f\"{base_path}{table}.parquet\")\n",
    "    dataframes[table] = df  # Armazenar o DataFrame no dicionário com o nome da tabela\n",
    "    print(f\"Exibindo conteúdo da tabela: {table}\")\n",
    "    df.show(1)  # Exibir as primeiras linhas da tabela"
   ]
  },
  {
   "cell_type": "markdown",
   "metadata": {
    "application/vnd.databricks.v1+cell": {
     "cellMetadata": {},
     "inputWidgets": {},
     "nuid": "f7957da3-8c4c-4dce-be39-1b83eecca2fa",
     "showTitle": false,
     "title": ""
    }
   },
   "source": [
    "## Query para encontrar o país com mais itens cancelados:"
   ]
  },
  {
   "cell_type": "code",
   "execution_count": 0,
   "metadata": {
    "application/vnd.databricks.v1+cell": {
     "cellMetadata": {
      "byteLimit": 2048000,
      "rowLimit": 10000
     },
     "inputWidgets": {},
     "nuid": "a7fdc262-a072-4139-8a10-3d9ce83e6d05",
     "showTitle": false,
     "title": ""
    }
   },
   "outputs": [
    {
     "output_type": "stream",
     "name": "stdout",
     "output_type": "stream",
     "text": [
      "+-----------+---------------+\n|    country|cancelled_items|\n+-----------+---------------+\n|New Zealand|              2|\n+-----------+---------------+\n\n"
     ]
    }
   ],
   "source": [
    "# Carregar as tabelas de interesse\n",
    "orders_df = dataframes[\"orders\"]\n",
    "customers_df = dataframes[\"customers\"]\n",
    "\n",
    "# Registrar as tabelas como vistas temporárias para usar SQL\n",
    "orders_df.createOrReplaceTempView(\"orders\")\n",
    "customers_df.createOrReplaceTempView(\"customers\")\n",
    "\n",
    "# Query para encontrar o país com mais itens cancelados\n",
    "canceled_items_df = spark.sql(\"\"\"\n",
    "    SELECT c.country, COUNT(o.order_number) AS cancelled_items\n",
    "    FROM orders o\n",
    "    JOIN customers c ON o.customer_number = c.customer_number\n",
    "    WHERE o.status = 'Cancelled'\n",
    "    GROUP BY c.country\n",
    "    ORDER BY cancelled_items DESC\n",
    "    LIMIT 1\n",
    "\"\"\")\n",
    "\n",
    "# Mostrar o resultado da consulta\n",
    "canceled_items_df.show()\n",
    "\n",
    "# Salvar o resultado em uma tabela Delta\n",
    "canceled_items_df.write.format(\"delta\").mode(\"overwrite\").save(\"/mnt/delta/canceled_items\")\n",
    "\n"
   ]
  },
  {
   "cell_type": "markdown",
   "metadata": {
    "application/vnd.databricks.v1+cell": {
     "cellMetadata": {},
     "inputWidgets": {},
     "nuid": "cc432e29-93f5-43b2-8ea6-a7ea7824fdb8",
     "showTitle": false,
     "title": ""
    }
   },
   "source": [
    "### Query para calcular o faturamento da linha de produto mais vendida em 2005 com status 'Shipped'"
   ]
  },
  {
   "cell_type": "code",
   "execution_count": 0,
   "metadata": {
    "application/vnd.databricks.v1+cell": {
     "cellMetadata": {
      "byteLimit": 2048000,
      "rowLimit": 10000
     },
     "inputWidgets": {},
     "nuid": "b2fa11dc-378d-46c3-96f4-5f15c260f8a0",
     "showTitle": false,
     "title": ""
    }
   },
   "outputs": [
    {
     "output_type": "stream",
     "name": "stdout",
     "output_type": "stream",
     "text": [
      "+------------+-------------+\n|product_line|total_revenue|\n+------------+-------------+\n|Classic Cars|    603666.99|\n+------------+-------------+\n\n"
     ]
    }
   ],
   "source": [
    "# Carregar as tabelas de interesse\n",
    "orders_df = dataframes[\"orders\"]\n",
    "orderdetails_df = dataframes[\"orderdetails\"]\n",
    "products_df = dataframes[\"products\"]\n",
    "product_lines_df = dataframes[\"product_lines\"]\n",
    "\n",
    "# Registrar as tabelas como vistas temporárias para usar SQL\n",
    "orders_df.createOrReplaceTempView(\"orders\")\n",
    "orderdetails_df.createOrReplaceTempView(\"orderdetails\")\n",
    "products_df.createOrReplaceTempView(\"products\")\n",
    "product_lines_df.createOrReplaceTempView(\"product_lines\")\n",
    "\n",
    "# Query para calcular o faturamento da linha de produto mais vendida em 2005 com status 'Shipped'\n",
    "revenue_df = spark.sql(\"\"\"\n",
    "    SELECT pl.product_line, SUM(od.quantity_ordered * od.price_each) AS total_revenue\n",
    "    FROM orders o\n",
    "    JOIN orderdetails od ON o.order_number = od.order_number\n",
    "    JOIN products p ON od.product_code = p.product_code\n",
    "    JOIN product_lines pl ON p.product_line = pl.product_line\n",
    "    WHERE o.status = 'Shipped'\n",
    "    AND YEAR(o.order_date) = 2005\n",
    "    GROUP BY pl.product_line\n",
    "    ORDER BY total_revenue DESC\n",
    "    LIMIT 1\n",
    "\"\"\")\n",
    "\n",
    "# Mostrar o resultado da consulta\n",
    "revenue_df.show()\n",
    "\n",
    "# Salvar o resultado em uma tabela Delta\n",
    "revenue_df.write.format(\"delta\").mode(\"overwrite\").save(\"/mnt/delta/revenue_2005\")"
   ]
  },
  {
   "cell_type": "code",
   "execution_count": 0,
   "metadata": {
    "application/vnd.databricks.v1+cell": {
     "cellMetadata": {
      "byteLimit": 2048000,
      "rowLimit": 10000
     },
     "inputWidgets": {},
     "nuid": "8108fd62-3a23-40e0-8059-df9f80a43c8a",
     "showTitle": false,
     "title": ""
    }
   },
   "outputs": [
    {
     "output_type": "stream",
     "name": "stdout",
     "output_type": "stream",
     "text": [
      "root\n |-- order_number: integer (nullable = true)\n |-- order_date: date (nullable = true)\n |-- required_date: date (nullable = true)\n |-- shipped_date: date (nullable = true)\n |-- status: string (nullable = true)\n |-- comments: string (nullable = true)\n |-- customer_number: integer (nullable = true)\n\nroot\n |-- order_number: integer (nullable = true)\n |-- product_code: string (nullable = true)\n |-- quantity_ordered: integer (nullable = true)\n |-- price_each: decimal(10,2) (nullable = true)\n |-- order_line_number: short (nullable = true)\n\nroot\n |-- product_code: string (nullable = true)\n |-- product_name: string (nullable = true)\n |-- product_line: string (nullable = true)\n |-- product_scale: string (nullable = true)\n |-- product_vendor: string (nullable = true)\n |-- product_description: string (nullable = true)\n |-- quantity_in_stock: short (nullable = true)\n |-- buy_price: decimal(10,2) (nullable = true)\n |-- msrp: decimal(10,2) (nullable = true)\n\nroot\n |-- product_line: string (nullable = true)\n |-- text_description: string (nullable = true)\n |-- html_description: string (nullable = true)\n |-- image: binary (nullable = true)\n\n"
     ]
    }
   ],
   "source": [
    "orders_df.printSchema()\n",
    "orderdetails_df.printSchema()\n",
    "products_df.printSchema()\n",
    "product_lines_df.printSchema()"
   ]
  },
  {
   "cell_type": "markdown",
   "metadata": {
    "application/vnd.databricks.v1+cell": {
     "cellMetadata": {},
     "inputWidgets": {},
     "nuid": "e7795a9a-cc3b-4ae0-94f7-de4ecb4d12bc",
     "showTitle": false,
     "title": ""
    }
   },
   "source": [
    "## Query para trazer nome, sobrenome e e-mail mascarado dos vendedores no Japão"
   ]
  },
  {
   "cell_type": "code",
   "execution_count": 0,
   "metadata": {
    "application/vnd.databricks.v1+cell": {
     "cellMetadata": {
      "byteLimit": 2048000,
      "rowLimit": 10000
     },
     "inputWidgets": {},
     "nuid": "052889d1-322f-491e-8e41-3dea64536093",
     "showTitle": false,
     "title": ""
    }
   },
   "outputs": [
    {
     "output_type": "stream",
     "name": "stdout",
     "output_type": "stream",
     "text": [
      "+----------+---------+--------------------+\n|first_name|last_name|        masked_email|\n+----------+---------+--------------------+\n|      Mami|    Nishi|***@classicmodelc...|\n|   Yoshimi|     Kato|***@classicmodelc...|\n+----------+---------+--------------------+\n\n"
     ]
    }
   ],
   "source": [
    "# Carregar as tabelas de interesse\n",
    "employees_df = dataframes[\"employees\"]\n",
    "offices_df = dataframes[\"offices\"]\n",
    "\n",
    "# Registrar as tabelas como vistas temporárias para usar SQL\n",
    "employees_df.createOrReplaceTempView(\"employees\")\n",
    "offices_df.createOrReplaceTempView(\"offices\")\n",
    "\n",
    "# Query para trazer nome, sobrenome e e-mail mascarado dos vendedores no Japão\n",
    "masked_email_df = spark.sql(\"\"\"\n",
    "    SELECT e.first_name, e.last_name, \n",
    "           CONCAT('***', SUBSTRING(e.email, POSITION('@' IN e.email), LENGTH(e.email))) AS masked_email\n",
    "    FROM employees e\n",
    "    JOIN offices o ON e.office_code = o.office_code\n",
    "    WHERE o.country = 'Japan'\n",
    "\"\"\")\n",
    "\n",
    "# Mostrar o resultado da consulta\n",
    "masked_email_df.show()\n",
    "\n",
    "# Salvar o resultado em uma tabela Delta\n",
    "masked_email_df.write.format(\"delta\").mode(\"overwrite\").save(\"/mnt/delta/masked_emails_japan\")"
   ]
  },
  {
   "cell_type": "code",
   "execution_count": 0,
   "metadata": {
    "application/vnd.databricks.v1+cell": {
     "cellMetadata": {
      "byteLimit": 2048000,
      "rowLimit": 10000
     },
     "inputWidgets": {},
     "nuid": "08550f35-2bbe-4c90-9e97-63ef0b2fcf5b",
     "showTitle": false,
     "title": ""
    }
   },
   "outputs": [
    {
     "output_type": "stream",
     "name": "stdout",
     "output_type": "stream",
     "text": [
      "root\n |-- employee_number: integer (nullable = true)\n |-- last_name: string (nullable = true)\n |-- first_name: string (nullable = true)\n |-- extension: string (nullable = true)\n |-- email: string (nullable = true)\n |-- office_code: string (nullable = true)\n |-- reports_to: integer (nullable = true)\n |-- job_Title: string (nullable = true)\n\nroot\n |-- office_code: string (nullable = true)\n |-- city: string (nullable = true)\n |-- phone: string (nullable = true)\n |-- address_line1: string (nullable = true)\n |-- address_line2: string (nullable = true)\n |-- state: string (nullable = true)\n |-- country: string (nullable = true)\n |-- postal_code: string (nullable = true)\n |-- territory: string (nullable = true)\n\n"
     ]
    }
   ],
   "source": [
    "employees_df.printSchema()\n",
    "offices_df.printSchema()"
   ]
  },
  {
   "cell_type": "code",
   "execution_count": 0,
   "metadata": {
    "application/vnd.databricks.v1+cell": {
     "cellMetadata": {
      "byteLimit": 2048000,
      "rowLimit": 10000
     },
     "inputWidgets": {},
     "nuid": "9cf59261-2db5-441c-b406-38f4ff7e9707",
     "showTitle": false,
     "title": ""
    }
   },
   "outputs": [
    {
     "output_type": "stream",
     "name": "stdout",
     "output_type": "stream",
     "text": [
      "+-----------+---------------+\n|    country|cancelled_items|\n+-----------+---------------+\n|New Zealand|              2|\n+-----------+---------------+\n\n"
     ]
    }
   ],
   "source": [
    "# Carregar as tabelas de interesse\n",
    "orders_df = dataframes[\"orders\"]\n",
    "customers_df = dataframes[\"customers\"]\n",
    "\n",
    "# Registrar as tabelas como vistas temporárias para usar SQL\n",
    "orders_df.createOrReplaceTempView(\"orders\")\n",
    "customers_df.createOrReplaceTempView(\"customers\")\n",
    "\n",
    "# Query para encontrar o país com mais itens cancelados\n",
    "canceled_items_df = spark.sql(\"\"\"\n",
    "    SELECT c.country, COUNT(o.order_number) AS cancelled_items\n",
    "    FROM orders o\n",
    "    JOIN customers c ON o.customer_number = c.customer_number\n",
    "    WHERE o.status = 'Cancelled'\n",
    "    GROUP BY c.country\n",
    "    ORDER BY cancelled_items DESC\n",
    "    LIMIT 1\n",
    "\"\"\")\n",
    "\n",
    "# Mostrar o resultado da consulta\n",
    "canceled_items_df.show()\n",
    "\n",
    "# Salvar o resultado em uma tabela Delta\n",
    "canceled_items_df.write.format(\"delta\").mode(\"overwrite\").save(\"/mnt/delta/canceled_items\")"
   ]
  }
 ],
 "metadata": {
  "application/vnd.databricks.v1+notebook": {
   "dashboards": [],
   "environmentMetadata": null,
   "language": "python",
   "notebookMetadata": {
    "mostRecentlyExecutedCommandWithImplicitDF": {
     "commandId": 1308524556568602,
     "dataframes": [
      "_sqldf"
     ]
    },
    "pythonIndentUnit": 4
   },
   "notebookName": "Notebook_Case_Ecommerce",
   "widgets": {}
  }
 },
 "nbformat": 4,
 "nbformat_minor": 0
}
